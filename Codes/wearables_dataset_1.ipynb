{
 "cells": [
  {
   "cell_type": "markdown",
   "id": "44261d20",
   "metadata": {},
   "source": [
    "# Wearable Dataset"
   ]
  },
  {
   "cell_type": "code",
   "execution_count": null,
   "id": "c0cf19dd",
   "metadata": {},
   "outputs": [],
   "source": [
    "import pandas as pd"
   ]
  },
  {
   "cell_type": "code",
   "execution_count": 6,
   "id": "768b0f6e",
   "metadata": {},
   "outputs": [],
   "source": [
    "activity_envitonment_df_path = \"../Datasets/Wearables_dataset/archive/activity_environment_data.csv\"\n",
    "digital_interaction_df_path = \"../Datasets/Wearables_dataset/archive/digital_interaction_data.csv\"\n",
    "personal_health_df_path = \"../Datasets/Wearables_dataset/archive/personal_health_data.csv\"\n",
    "\n",
    "activity_envitonment_df = pd.read_csv(activity_envitonment_df_path)\n",
    "digital_interaction_df = pd.read_csv(digital_interaction_df_path)\n",
    "personal_health_df = pd.read_csv(personal_health_df_path)"
   ]
  },
  {
   "cell_type": "markdown",
   "id": "724b6f22",
   "metadata": {},
   "source": [
    "### Activity Envitonment DataFrame"
   ]
  },
  {
   "cell_type": "code",
   "execution_count": 4,
   "id": "52aa9755",
   "metadata": {},
   "outputs": [
    {
     "data": {
      "text/html": [
       "<div>\n",
       "<style scoped>\n",
       "    .dataframe tbody tr th:only-of-type {\n",
       "        vertical-align: middle;\n",
       "    }\n",
       "\n",
       "    .dataframe tbody tr th {\n",
       "        vertical-align: top;\n",
       "    }\n",
       "\n",
       "    .dataframe thead th {\n",
       "        text-align: right;\n",
       "    }\n",
       "</style>\n",
       "<table border=\"1\" class=\"dataframe\">\n",
       "  <thead>\n",
       "    <tr style=\"text-align: right;\">\n",
       "      <th></th>\n",
       "      <th>User_ID</th>\n",
       "      <th>Timestamp</th>\n",
       "      <th>Steps</th>\n",
       "      <th>Calories_Burned</th>\n",
       "      <th>Distance_Covered</th>\n",
       "      <th>Exercise_Type</th>\n",
       "      <th>Exercise_Duration</th>\n",
       "      <th>Exercise_Intensity</th>\n",
       "      <th>Ambient_Temperature</th>\n",
       "      <th>Battery_Level</th>\n",
       "      <th>Altitude</th>\n",
       "      <th>UV_Exposure</th>\n",
       "    </tr>\n",
       "  </thead>\n",
       "  <tbody>\n",
       "    <tr>\n",
       "      <th>0</th>\n",
       "      <td>U_00001</td>\n",
       "      <td>2021-01-01 00:00:00</td>\n",
       "      <td>9146</td>\n",
       "      <td>457.30</td>\n",
       "      <td>7.3168</td>\n",
       "      <td>Running</td>\n",
       "      <td>1.219675</td>\n",
       "      <td>Low</td>\n",
       "      <td>27.271525</td>\n",
       "      <td>97.338777</td>\n",
       "      <td>1739.690662</td>\n",
       "      <td>4.069132</td>\n",
       "    </tr>\n",
       "    <tr>\n",
       "      <th>1</th>\n",
       "      <td>U_00002</td>\n",
       "      <td>2021-01-01 01:00:00</td>\n",
       "      <td>9362</td>\n",
       "      <td>468.10</td>\n",
       "      <td>7.4896</td>\n",
       "      <td>Yoga</td>\n",
       "      <td>1.378399</td>\n",
       "      <td>Moderate</td>\n",
       "      <td>24.430288</td>\n",
       "      <td>66.573240</td>\n",
       "      <td>4102.042824</td>\n",
       "      <td>1.723672</td>\n",
       "    </tr>\n",
       "    <tr>\n",
       "      <th>2</th>\n",
       "      <td>U_00003</td>\n",
       "      <td>2021-01-01 02:00:00</td>\n",
       "      <td>21</td>\n",
       "      <td>1.05</td>\n",
       "      <td>0.0168</td>\n",
       "      <td>Strength Training</td>\n",
       "      <td>0.803857</td>\n",
       "      <td>Moderate</td>\n",
       "      <td>29.340574</td>\n",
       "      <td>30.138828</td>\n",
       "      <td>1794.899935</td>\n",
       "      <td>0.135647</td>\n",
       "    </tr>\n",
       "    <tr>\n",
       "      <th>3</th>\n",
       "      <td>U_00004</td>\n",
       "      <td>2021-01-01 03:00:00</td>\n",
       "      <td>13252</td>\n",
       "      <td>662.60</td>\n",
       "      <td>10.6016</td>\n",
       "      <td>NaN</td>\n",
       "      <td>0.000000</td>\n",
       "      <td>NaN</td>\n",
       "      <td>25.289230</td>\n",
       "      <td>78.838640</td>\n",
       "      <td>4025.840921</td>\n",
       "      <td>4.408343</td>\n",
       "    </tr>\n",
       "    <tr>\n",
       "      <th>4</th>\n",
       "      <td>U_00005</td>\n",
       "      <td>2021-01-01 04:00:00</td>\n",
       "      <td>21</td>\n",
       "      <td>1.05</td>\n",
       "      <td>0.0168</td>\n",
       "      <td>Yoga</td>\n",
       "      <td>0.807389</td>\n",
       "      <td>High</td>\n",
       "      <td>21.853590</td>\n",
       "      <td>17.673261</td>\n",
       "      <td>3422.381447</td>\n",
       "      <td>2.820739</td>\n",
       "    </tr>\n",
       "  </tbody>\n",
       "</table>\n",
       "</div>"
      ],
      "text/plain": [
       "   User_ID            Timestamp  Steps  Calories_Burned  Distance_Covered  \\\n",
       "0  U_00001  2021-01-01 00:00:00   9146           457.30            7.3168   \n",
       "1  U_00002  2021-01-01 01:00:00   9362           468.10            7.4896   \n",
       "2  U_00003  2021-01-01 02:00:00     21             1.05            0.0168   \n",
       "3  U_00004  2021-01-01 03:00:00  13252           662.60           10.6016   \n",
       "4  U_00005  2021-01-01 04:00:00     21             1.05            0.0168   \n",
       "\n",
       "       Exercise_Type  Exercise_Duration Exercise_Intensity  \\\n",
       "0            Running           1.219675                Low   \n",
       "1               Yoga           1.378399           Moderate   \n",
       "2  Strength Training           0.803857           Moderate   \n",
       "3                NaN           0.000000                NaN   \n",
       "4               Yoga           0.807389               High   \n",
       "\n",
       "   Ambient_Temperature  Battery_Level     Altitude  UV_Exposure  \n",
       "0            27.271525      97.338777  1739.690662     4.069132  \n",
       "1            24.430288      66.573240  4102.042824     1.723672  \n",
       "2            29.340574      30.138828  1794.899935     0.135647  \n",
       "3            25.289230      78.838640  4025.840921     4.408343  \n",
       "4            21.853590      17.673261  3422.381447     2.820739  "
      ]
     },
     "execution_count": 4,
     "metadata": {},
     "output_type": "execute_result"
    }
   ],
   "source": [
    "activity_envitonment_df.head()"
   ]
  },
  {
   "cell_type": "code",
   "execution_count": 5,
   "id": "592ca4a2",
   "metadata": {},
   "outputs": [
    {
     "name": "stdout",
     "output_type": "stream",
     "text": [
      "<class 'pandas.core.frame.DataFrame'>\n",
      "RangeIndex: 10000 entries, 0 to 9999\n",
      "Data columns (total 12 columns):\n",
      " #   Column               Non-Null Count  Dtype  \n",
      "---  ------               --------------  -----  \n",
      " 0   User_ID              10000 non-null  object \n",
      " 1   Timestamp            10000 non-null  object \n",
      " 2   Steps                10000 non-null  int64  \n",
      " 3   Calories_Burned      10000 non-null  float64\n",
      " 4   Distance_Covered     10000 non-null  float64\n",
      " 5   Exercise_Type        7399 non-null   object \n",
      " 6   Exercise_Duration    10000 non-null  float64\n",
      " 7   Exercise_Intensity   7399 non-null   object \n",
      " 8   Ambient_Temperature  10000 non-null  float64\n",
      " 9   Battery_Level        10000 non-null  float64\n",
      " 10  Altitude             10000 non-null  float64\n",
      " 11  UV_Exposure          10000 non-null  float64\n",
      "dtypes: float64(7), int64(1), object(4)\n",
      "memory usage: 937.6+ KB\n"
     ]
    }
   ],
   "source": [
    "activity_envitonment_df.info()"
   ]
  },
  {
   "cell_type": "markdown",
   "id": "72af2bd3",
   "metadata": {},
   "source": [
    "### Digital Interaction Dataframe"
   ]
  },
  {
   "cell_type": "code",
   "execution_count": null,
   "id": "e65deb64",
   "metadata": {},
   "outputs": [],
   "source": []
  },
  {
   "cell_type": "markdown",
   "id": "ea18c100",
   "metadata": {},
   "source": [
    "### "
   ]
  }
 ],
 "metadata": {
  "kernelspec": {
   "display_name": "venv",
   "language": "python",
   "name": "python3"
  },
  "language_info": {
   "codemirror_mode": {
    "name": "ipython",
    "version": 3
   },
   "file_extension": ".py",
   "mimetype": "text/x-python",
   "name": "python",
   "nbconvert_exporter": "python",
   "pygments_lexer": "ipython3",
   "version": "3.13.3"
  }
 },
 "nbformat": 4,
 "nbformat_minor": 5
}
