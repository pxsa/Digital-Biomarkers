{
 "cells": [
  {
   "cell_type": "markdown",
   "id": "44261d20",
   "metadata": {},
   "source": [
    "# Wearable Dataset"
   ]
  },
  {
   "cell_type": "code",
   "execution_count": 10,
   "id": "c0cf19dd",
   "metadata": {},
   "outputs": [],
   "source": [
    "import pandas as pd\n",
    "import matplotlib.pyplot as plt"
   ]
  },
  {
   "cell_type": "code",
   "execution_count": 15,
   "id": "768b0f6e",
   "metadata": {},
   "outputs": [],
   "source": [
    "activity_envitonment_df_path = \"../Datasets/Wearables_dataset/archive/activity_environment_data.csv\"\n",
    "digital_interaction_df_path  = \"../Datasets/Wearables_dataset/archive/digital_interaction_data.csv\"\n",
    "personal_health_df_path      = \"../Datasets/Wearables_dataset/archive/personal_health_data.csv\""
   ]
  },
  {
   "cell_type": "code",
   "execution_count": 16,
   "id": "d371ff8f",
   "metadata": {},
   "outputs": [],
   "source": [
    "activity_envitonment_df = pd.read_csv(activity_envitonment_df_path)\n",
    "digital_interaction_df  = pd.read_csv(digital_interaction_df_path)\n",
    "personal_health_df      = pd.read_csv(personal_health_df_path)"
   ]
  },
  {
   "cell_type": "markdown",
   "id": "724b6f22",
   "metadata": {},
   "source": [
    "### Activity Envitonment DataFrame"
   ]
  },
  {
   "cell_type": "code",
   "execution_count": 17,
   "id": "52aa9755",
   "metadata": {},
   "outputs": [
    {
     "data": {
      "text/html": [
       "<div>\n",
       "<style scoped>\n",
       "    .dataframe tbody tr th:only-of-type {\n",
       "        vertical-align: middle;\n",
       "    }\n",
       "\n",
       "    .dataframe tbody tr th {\n",
       "        vertical-align: top;\n",
       "    }\n",
       "\n",
       "    .dataframe thead th {\n",
       "        text-align: right;\n",
       "    }\n",
       "</style>\n",
       "<table border=\"1\" class=\"dataframe\">\n",
       "  <thead>\n",
       "    <tr style=\"text-align: right;\">\n",
       "      <th></th>\n",
       "      <th>User_ID</th>\n",
       "      <th>Timestamp</th>\n",
       "      <th>Steps</th>\n",
       "      <th>Calories_Burned</th>\n",
       "      <th>Distance_Covered</th>\n",
       "      <th>Exercise_Type</th>\n",
       "      <th>Exercise_Duration</th>\n",
       "      <th>Exercise_Intensity</th>\n",
       "      <th>Ambient_Temperature</th>\n",
       "      <th>Battery_Level</th>\n",
       "      <th>Altitude</th>\n",
       "      <th>UV_Exposure</th>\n",
       "    </tr>\n",
       "  </thead>\n",
       "  <tbody>\n",
       "    <tr>\n",
       "      <th>0</th>\n",
       "      <td>U_00001</td>\n",
       "      <td>2021-01-01 00:00:00</td>\n",
       "      <td>9146</td>\n",
       "      <td>457.30</td>\n",
       "      <td>7.3168</td>\n",
       "      <td>Running</td>\n",
       "      <td>1.219675</td>\n",
       "      <td>Low</td>\n",
       "      <td>27.271525</td>\n",
       "      <td>97.338777</td>\n",
       "      <td>1739.690662</td>\n",
       "      <td>4.069132</td>\n",
       "    </tr>\n",
       "    <tr>\n",
       "      <th>1</th>\n",
       "      <td>U_00002</td>\n",
       "      <td>2021-01-01 01:00:00</td>\n",
       "      <td>9362</td>\n",
       "      <td>468.10</td>\n",
       "      <td>7.4896</td>\n",
       "      <td>Yoga</td>\n",
       "      <td>1.378399</td>\n",
       "      <td>Moderate</td>\n",
       "      <td>24.430288</td>\n",
       "      <td>66.573240</td>\n",
       "      <td>4102.042824</td>\n",
       "      <td>1.723672</td>\n",
       "    </tr>\n",
       "    <tr>\n",
       "      <th>2</th>\n",
       "      <td>U_00003</td>\n",
       "      <td>2021-01-01 02:00:00</td>\n",
       "      <td>21</td>\n",
       "      <td>1.05</td>\n",
       "      <td>0.0168</td>\n",
       "      <td>Strength Training</td>\n",
       "      <td>0.803857</td>\n",
       "      <td>Moderate</td>\n",
       "      <td>29.340574</td>\n",
       "      <td>30.138828</td>\n",
       "      <td>1794.899935</td>\n",
       "      <td>0.135647</td>\n",
       "    </tr>\n",
       "    <tr>\n",
       "      <th>3</th>\n",
       "      <td>U_00004</td>\n",
       "      <td>2021-01-01 03:00:00</td>\n",
       "      <td>13252</td>\n",
       "      <td>662.60</td>\n",
       "      <td>10.6016</td>\n",
       "      <td>NaN</td>\n",
       "      <td>0.000000</td>\n",
       "      <td>NaN</td>\n",
       "      <td>25.289230</td>\n",
       "      <td>78.838640</td>\n",
       "      <td>4025.840921</td>\n",
       "      <td>4.408343</td>\n",
       "    </tr>\n",
       "    <tr>\n",
       "      <th>4</th>\n",
       "      <td>U_00005</td>\n",
       "      <td>2021-01-01 04:00:00</td>\n",
       "      <td>21</td>\n",
       "      <td>1.05</td>\n",
       "      <td>0.0168</td>\n",
       "      <td>Yoga</td>\n",
       "      <td>0.807389</td>\n",
       "      <td>High</td>\n",
       "      <td>21.853590</td>\n",
       "      <td>17.673261</td>\n",
       "      <td>3422.381447</td>\n",
       "      <td>2.820739</td>\n",
       "    </tr>\n",
       "  </tbody>\n",
       "</table>\n",
       "</div>"
      ],
      "text/plain": [
       "   User_ID            Timestamp  Steps  Calories_Burned  Distance_Covered  \\\n",
       "0  U_00001  2021-01-01 00:00:00   9146           457.30            7.3168   \n",
       "1  U_00002  2021-01-01 01:00:00   9362           468.10            7.4896   \n",
       "2  U_00003  2021-01-01 02:00:00     21             1.05            0.0168   \n",
       "3  U_00004  2021-01-01 03:00:00  13252           662.60           10.6016   \n",
       "4  U_00005  2021-01-01 04:00:00     21             1.05            0.0168   \n",
       "\n",
       "       Exercise_Type  Exercise_Duration Exercise_Intensity  \\\n",
       "0            Running           1.219675                Low   \n",
       "1               Yoga           1.378399           Moderate   \n",
       "2  Strength Training           0.803857           Moderate   \n",
       "3                NaN           0.000000                NaN   \n",
       "4               Yoga           0.807389               High   \n",
       "\n",
       "   Ambient_Temperature  Battery_Level     Altitude  UV_Exposure  \n",
       "0            27.271525      97.338777  1739.690662     4.069132  \n",
       "1            24.430288      66.573240  4102.042824     1.723672  \n",
       "2            29.340574      30.138828  1794.899935     0.135647  \n",
       "3            25.289230      78.838640  4025.840921     4.408343  \n",
       "4            21.853590      17.673261  3422.381447     2.820739  "
      ]
     },
     "execution_count": 17,
     "metadata": {},
     "output_type": "execute_result"
    }
   ],
   "source": [
    "activity_envitonment_df.head()"
   ]
  },
  {
   "cell_type": "code",
   "execution_count": 18,
   "id": "592ca4a2",
   "metadata": {},
   "outputs": [
    {
     "name": "stdout",
     "output_type": "stream",
     "text": [
      "<class 'pandas.core.frame.DataFrame'>\n",
      "RangeIndex: 10000 entries, 0 to 9999\n",
      "Data columns (total 12 columns):\n",
      " #   Column               Non-Null Count  Dtype  \n",
      "---  ------               --------------  -----  \n",
      " 0   User_ID              10000 non-null  object \n",
      " 1   Timestamp            10000 non-null  object \n",
      " 2   Steps                10000 non-null  int64  \n",
      " 3   Calories_Burned      10000 non-null  float64\n",
      " 4   Distance_Covered     10000 non-null  float64\n",
      " 5   Exercise_Type        7399 non-null   object \n",
      " 6   Exercise_Duration    10000 non-null  float64\n",
      " 7   Exercise_Intensity   7399 non-null   object \n",
      " 8   Ambient_Temperature  10000 non-null  float64\n",
      " 9   Battery_Level        10000 non-null  float64\n",
      " 10  Altitude             10000 non-null  float64\n",
      " 11  UV_Exposure          10000 non-null  float64\n",
      "dtypes: float64(7), int64(1), object(4)\n",
      "memory usage: 937.6+ KB\n"
     ]
    }
   ],
   "source": [
    "activity_envitonment_df.info()"
   ]
  },
  {
   "cell_type": "markdown",
   "id": "72af2bd3",
   "metadata": {},
   "source": [
    "### Digital Interaction Dataframe"
   ]
  },
  {
   "cell_type": "code",
   "execution_count": 19,
   "id": "e65deb64",
   "metadata": {},
   "outputs": [
    {
     "data": {
      "text/html": [
       "<div>\n",
       "<style scoped>\n",
       "    .dataframe tbody tr th:only-of-type {\n",
       "        vertical-align: middle;\n",
       "    }\n",
       "\n",
       "    .dataframe tbody tr th {\n",
       "        vertical-align: top;\n",
       "    }\n",
       "\n",
       "    .dataframe thead th {\n",
       "        text-align: right;\n",
       "    }\n",
       "</style>\n",
       "<table border=\"1\" class=\"dataframe\">\n",
       "  <thead>\n",
       "    <tr style=\"text-align: right;\">\n",
       "      <th></th>\n",
       "      <th>User_ID</th>\n",
       "      <th>Timestamp</th>\n",
       "      <th>Notifications_Received</th>\n",
       "      <th>Screen_Time</th>\n",
       "    </tr>\n",
       "  </thead>\n",
       "  <tbody>\n",
       "    <tr>\n",
       "      <th>0</th>\n",
       "      <td>U_00001</td>\n",
       "      <td>2021-01-01 00:00:00</td>\n",
       "      <td>34</td>\n",
       "      <td>1.854833</td>\n",
       "    </tr>\n",
       "    <tr>\n",
       "      <th>1</th>\n",
       "      <td>U_00002</td>\n",
       "      <td>2021-01-01 01:00:00</td>\n",
       "      <td>16</td>\n",
       "      <td>0.245456</td>\n",
       "    </tr>\n",
       "    <tr>\n",
       "      <th>2</th>\n",
       "      <td>U_00003</td>\n",
       "      <td>2021-01-01 02:00:00</td>\n",
       "      <td>41</td>\n",
       "      <td>2.539901</td>\n",
       "    </tr>\n",
       "    <tr>\n",
       "      <th>3</th>\n",
       "      <td>U_00004</td>\n",
       "      <td>2021-01-01 03:00:00</td>\n",
       "      <td>48</td>\n",
       "      <td>3.078411</td>\n",
       "    </tr>\n",
       "    <tr>\n",
       "      <th>4</th>\n",
       "      <td>U_00005</td>\n",
       "      <td>2021-01-01 04:00:00</td>\n",
       "      <td>70</td>\n",
       "      <td>2.624290</td>\n",
       "    </tr>\n",
       "  </tbody>\n",
       "</table>\n",
       "</div>"
      ],
      "text/plain": [
       "   User_ID            Timestamp  Notifications_Received  Screen_Time\n",
       "0  U_00001  2021-01-01 00:00:00                      34     1.854833\n",
       "1  U_00002  2021-01-01 01:00:00                      16     0.245456\n",
       "2  U_00003  2021-01-01 02:00:00                      41     2.539901\n",
       "3  U_00004  2021-01-01 03:00:00                      48     3.078411\n",
       "4  U_00005  2021-01-01 04:00:00                      70     2.624290"
      ]
     },
     "execution_count": 19,
     "metadata": {},
     "output_type": "execute_result"
    }
   ],
   "source": [
    "digital_interaction_df.head()"
   ]
  },
  {
   "cell_type": "code",
   "execution_count": 20,
   "id": "9f5dd03d",
   "metadata": {},
   "outputs": [
    {
     "name": "stdout",
     "output_type": "stream",
     "text": [
      "<class 'pandas.core.frame.DataFrame'>\n",
      "RangeIndex: 10000 entries, 0 to 9999\n",
      "Data columns (total 4 columns):\n",
      " #   Column                  Non-Null Count  Dtype  \n",
      "---  ------                  --------------  -----  \n",
      " 0   User_ID                 10000 non-null  object \n",
      " 1   Timestamp               10000 non-null  object \n",
      " 2   Notifications_Received  10000 non-null  int64  \n",
      " 3   Screen_Time             10000 non-null  float64\n",
      "dtypes: float64(1), int64(1), object(2)\n",
      "memory usage: 312.6+ KB\n"
     ]
    }
   ],
   "source": [
    "digital_interaction_df.info()"
   ]
  },
  {
   "cell_type": "markdown",
   "id": "ea18c100",
   "metadata": {},
   "source": [
    "### Personal Health Dataframe"
   ]
  },
  {
   "cell_type": "code",
   "execution_count": 21,
   "id": "3751135e",
   "metadata": {},
   "outputs": [
    {
     "data": {
      "text/html": [
       "<div>\n",
       "<style scoped>\n",
       "    .dataframe tbody tr th:only-of-type {\n",
       "        vertical-align: middle;\n",
       "    }\n",
       "\n",
       "    .dataframe tbody tr th {\n",
       "        vertical-align: top;\n",
       "    }\n",
       "\n",
       "    .dataframe thead th {\n",
       "        text-align: right;\n",
       "    }\n",
       "</style>\n",
       "<table border=\"1\" class=\"dataframe\">\n",
       "  <thead>\n",
       "    <tr style=\"text-align: right;\">\n",
       "      <th></th>\n",
       "      <th>User_ID</th>\n",
       "      <th>Age</th>\n",
       "      <th>Gender</th>\n",
       "      <th>Weight</th>\n",
       "      <th>Height</th>\n",
       "      <th>Medical_Conditions</th>\n",
       "      <th>Medication</th>\n",
       "      <th>Smoker</th>\n",
       "      <th>Alcohol_Consumption</th>\n",
       "      <th>Timestamp</th>\n",
       "      <th>...</th>\n",
       "      <th>ECG</th>\n",
       "      <th>Calories_Intake</th>\n",
       "      <th>Water_Intake</th>\n",
       "      <th>Stress_Level</th>\n",
       "      <th>Mood</th>\n",
       "      <th>Skin_Temperature</th>\n",
       "      <th>Body_Fat_Percentage</th>\n",
       "      <th>Muscle_Mass</th>\n",
       "      <th>Health_Score</th>\n",
       "      <th>Anomaly_Flag</th>\n",
       "    </tr>\n",
       "  </thead>\n",
       "  <tbody>\n",
       "    <tr>\n",
       "      <th>0</th>\n",
       "      <td>U_00001</td>\n",
       "      <td>61</td>\n",
       "      <td>Other</td>\n",
       "      <td>88.677623</td>\n",
       "      <td>178.524231</td>\n",
       "      <td>Diabetes</td>\n",
       "      <td>No</td>\n",
       "      <td>No</td>\n",
       "      <td>Moderate</td>\n",
       "      <td>2021-01-01 00:00:00</td>\n",
       "      <td>...</td>\n",
       "      <td>Abnormal</td>\n",
       "      <td>2444.985808</td>\n",
       "      <td>3.105556</td>\n",
       "      <td>Moderate</td>\n",
       "      <td>Neutral</td>\n",
       "      <td>32.752993</td>\n",
       "      <td>17.432985</td>\n",
       "      <td>77.599448</td>\n",
       "      <td>25.992071</td>\n",
       "      <td>1</td>\n",
       "    </tr>\n",
       "    <tr>\n",
       "      <th>1</th>\n",
       "      <td>U_00002</td>\n",
       "      <td>24</td>\n",
       "      <td>Male</td>\n",
       "      <td>86.742084</td>\n",
       "      <td>200.346358</td>\n",
       "      <td>NaN</td>\n",
       "      <td>Yes</td>\n",
       "      <td>No</td>\n",
       "      <td>Moderate</td>\n",
       "      <td>2021-01-01 01:00:00</td>\n",
       "      <td>...</td>\n",
       "      <td>Normal</td>\n",
       "      <td>2199.777020</td>\n",
       "      <td>2.441118</td>\n",
       "      <td>High</td>\n",
       "      <td>Anxious</td>\n",
       "      <td>35.010044</td>\n",
       "      <td>23.957792</td>\n",
       "      <td>71.718936</td>\n",
       "      <td>64.308450</td>\n",
       "      <td>0</td>\n",
       "    </tr>\n",
       "    <tr>\n",
       "      <th>2</th>\n",
       "      <td>U_00003</td>\n",
       "      <td>81</td>\n",
       "      <td>Other</td>\n",
       "      <td>61.656054</td>\n",
       "      <td>195.971356</td>\n",
       "      <td>Hypertension</td>\n",
       "      <td>Yes</td>\n",
       "      <td>No</td>\n",
       "      <td>Moderate</td>\n",
       "      <td>2021-01-01 02:00:00</td>\n",
       "      <td>...</td>\n",
       "      <td>Abnormal</td>\n",
       "      <td>2182.755640</td>\n",
       "      <td>1.240341</td>\n",
       "      <td>Low</td>\n",
       "      <td>Sad</td>\n",
       "      <td>36.797523</td>\n",
       "      <td>22.995533</td>\n",
       "      <td>59.874936</td>\n",
       "      <td>78.003546</td>\n",
       "      <td>1</td>\n",
       "    </tr>\n",
       "    <tr>\n",
       "      <th>3</th>\n",
       "      <td>U_00004</td>\n",
       "      <td>70</td>\n",
       "      <td>Other</td>\n",
       "      <td>141.513794</td>\n",
       "      <td>164.178216</td>\n",
       "      <td>Hypertension</td>\n",
       "      <td>No</td>\n",
       "      <td>No</td>\n",
       "      <td>Heavy</td>\n",
       "      <td>2021-01-01 03:00:00</td>\n",
       "      <td>...</td>\n",
       "      <td>Normal</td>\n",
       "      <td>1451.218888</td>\n",
       "      <td>1.682383</td>\n",
       "      <td>Moderate</td>\n",
       "      <td>Happy</td>\n",
       "      <td>32.614592</td>\n",
       "      <td>13.410659</td>\n",
       "      <td>67.528098</td>\n",
       "      <td>16.454106</td>\n",
       "      <td>1</td>\n",
       "    </tr>\n",
       "    <tr>\n",
       "      <th>4</th>\n",
       "      <td>U_00005</td>\n",
       "      <td>30</td>\n",
       "      <td>Other</td>\n",
       "      <td>80.552872</td>\n",
       "      <td>146.920675</td>\n",
       "      <td>Diabetes</td>\n",
       "      <td>Yes</td>\n",
       "      <td>Yes</td>\n",
       "      <td>Heavy</td>\n",
       "      <td>2021-01-01 04:00:00</td>\n",
       "      <td>...</td>\n",
       "      <td>Normal</td>\n",
       "      <td>1583.562773</td>\n",
       "      <td>1.461862</td>\n",
       "      <td>High</td>\n",
       "      <td>Happy</td>\n",
       "      <td>33.602319</td>\n",
       "      <td>24.920020</td>\n",
       "      <td>54.741487</td>\n",
       "      <td>42.528202</td>\n",
       "      <td>0</td>\n",
       "    </tr>\n",
       "  </tbody>\n",
       "</table>\n",
       "<p>5 rows × 28 columns</p>\n",
       "</div>"
      ],
      "text/plain": [
       "   User_ID  Age Gender      Weight      Height Medical_Conditions Medication  \\\n",
       "0  U_00001   61  Other   88.677623  178.524231           Diabetes         No   \n",
       "1  U_00002   24   Male   86.742084  200.346358                NaN        Yes   \n",
       "2  U_00003   81  Other   61.656054  195.971356       Hypertension        Yes   \n",
       "3  U_00004   70  Other  141.513794  164.178216       Hypertension         No   \n",
       "4  U_00005   30  Other   80.552872  146.920675           Diabetes        Yes   \n",
       "\n",
       "  Smoker Alcohol_Consumption            Timestamp  ...       ECG  \\\n",
       "0     No            Moderate  2021-01-01 00:00:00  ...  Abnormal   \n",
       "1     No            Moderate  2021-01-01 01:00:00  ...    Normal   \n",
       "2     No            Moderate  2021-01-01 02:00:00  ...  Abnormal   \n",
       "3     No               Heavy  2021-01-01 03:00:00  ...    Normal   \n",
       "4    Yes               Heavy  2021-01-01 04:00:00  ...    Normal   \n",
       "\n",
       "   Calories_Intake  Water_Intake  Stress_Level     Mood Skin_Temperature  \\\n",
       "0      2444.985808      3.105556      Moderate  Neutral        32.752993   \n",
       "1      2199.777020      2.441118          High  Anxious        35.010044   \n",
       "2      2182.755640      1.240341           Low      Sad        36.797523   \n",
       "3      1451.218888      1.682383      Moderate    Happy        32.614592   \n",
       "4      1583.562773      1.461862          High    Happy        33.602319   \n",
       "\n",
       "   Body_Fat_Percentage  Muscle_Mass Health_Score  Anomaly_Flag  \n",
       "0            17.432985    77.599448    25.992071             1  \n",
       "1            23.957792    71.718936    64.308450             0  \n",
       "2            22.995533    59.874936    78.003546             1  \n",
       "3            13.410659    67.528098    16.454106             1  \n",
       "4            24.920020    54.741487    42.528202             0  \n",
       "\n",
       "[5 rows x 28 columns]"
      ]
     },
     "execution_count": 21,
     "metadata": {},
     "output_type": "execute_result"
    }
   ],
   "source": [
    "personal_health_df.head()"
   ]
  },
  {
   "cell_type": "code",
   "execution_count": 22,
   "id": "cc49a806",
   "metadata": {},
   "outputs": [
    {
     "name": "stdout",
     "output_type": "stream",
     "text": [
      "<class 'pandas.core.frame.DataFrame'>\n",
      "RangeIndex: 10000 entries, 0 to 9999\n",
      "Data columns (total 28 columns):\n",
      " #   Column               Non-Null Count  Dtype  \n",
      "---  ------               --------------  -----  \n",
      " 0   User_ID              10000 non-null  object \n",
      " 1   Age                  10000 non-null  int64  \n",
      " 2   Gender               10000 non-null  object \n",
      " 3   Weight               10000 non-null  float64\n",
      " 4   Height               10000 non-null  float64\n",
      " 5   Medical_Conditions   6696 non-null   object \n",
      " 6   Medication           10000 non-null  object \n",
      " 7   Smoker               10000 non-null  object \n",
      " 8   Alcohol_Consumption  6640 non-null   object \n",
      " 9   Timestamp            10000 non-null  object \n",
      " 10  Day_of_Week          10000 non-null  object \n",
      " 11  Sleep_Duration       10000 non-null  float64\n",
      " 12  Deep_Sleep_Duration  10000 non-null  float64\n",
      " 13  REM_Sleep_Duration   10000 non-null  float64\n",
      " 14  Wakeups              10000 non-null  int64  \n",
      " 15  Snoring              10000 non-null  object \n",
      " 16  Heart_Rate           10000 non-null  int64  \n",
      " 17  Blood_Oxygen_Level   10000 non-null  float64\n",
      " 18  ECG                  10000 non-null  object \n",
      " 19  Calories_Intake      10000 non-null  float64\n",
      " 20  Water_Intake         10000 non-null  float64\n",
      " 21  Stress_Level         10000 non-null  object \n",
      " 22  Mood                 10000 non-null  object \n",
      " 23  Skin_Temperature     10000 non-null  float64\n",
      " 24  Body_Fat_Percentage  10000 non-null  float64\n",
      " 25  Muscle_Mass          10000 non-null  float64\n",
      " 26  Health_Score         10000 non-null  float64\n",
      " 27  Anomaly_Flag         10000 non-null  int64  \n",
      "dtypes: float64(12), int64(4), object(12)\n",
      "memory usage: 2.1+ MB\n"
     ]
    }
   ],
   "source": [
    "personal_health_df.info()"
   ]
  },
  {
   "cell_type": "code",
   "execution_count": 23,
   "id": "cbc78745",
   "metadata": {},
   "outputs": [
    {
     "data": {
      "text/plain": [
       "Index(['User_ID', 'Age', 'Gender', 'Weight', 'Height', 'Medical_Conditions',\n",
       "       'Medication', 'Smoker', 'Alcohol_Consumption', 'Timestamp',\n",
       "       'Day_of_Week', 'Sleep_Duration', 'Deep_Sleep_Duration',\n",
       "       'REM_Sleep_Duration', 'Wakeups', 'Snoring', 'Heart_Rate',\n",
       "       'Blood_Oxygen_Level', 'ECG', 'Calories_Intake', 'Water_Intake',\n",
       "       'Stress_Level', 'Mood', 'Skin_Temperature', 'Body_Fat_Percentage',\n",
       "       'Muscle_Mass', 'Health_Score', 'Anomaly_Flag'],\n",
       "      dtype='object')"
      ]
     },
     "execution_count": 23,
     "metadata": {},
     "output_type": "execute_result"
    }
   ],
   "source": [
    "personal_health_df.columns"
   ]
  },
  {
   "cell_type": "markdown",
   "id": "da738c74",
   "metadata": {},
   "source": [
    "# Nurse Stress Prediction Wearable Sensors"
   ]
  },
  {
   "cell_type": "markdown",
   "id": "7b3f4c76",
   "metadata": {},
   "source": [
    "This dataset comprises approximately 11.5 million entries across nine columns:\n",
    "\n",
    "---\n",
    "\n",
    "- `X, Y, Z`: Orientation data (256 unique entries each).\n",
    "- `EDA`, `HR`, `TEMP`: Physiological measurements (EDA: 274,452 unique, HR: 6,268 unique, TEMP: 599 unique).\n",
    "- `id`: 18 categorical identifiers.\n",
    "- `datetime`: Extensive date and time entries (10.6 million unique).\n",
    "- `label`: Categorical states or classes (three unique entries)."
   ]
  },
  {
   "cell_type": "markdown",
   "id": "9bc0ec8b",
   "metadata": {},
   "source": [
    "- EDA (Electrodermal Activity) [Changes in the skin's electrical conductivity due to sweat gland activity.]\n",
    "- Temp (Skin/Body Temperature)\n",
    "- HR (Heart Rate)\n",
    "\n",
    "[kaggle](https://www.kaggle.com/datasets/priyankraval/nurse-stress-prediction-wearable-sensors)"
   ]
  },
  {
   "cell_type": "code",
   "execution_count": 3,
   "id": "ce4787a5",
   "metadata": {},
   "outputs": [
    {
     "name": "stderr",
     "output_type": "stream",
     "text": [
      "C:\\Users\\parsa\\AppData\\Local\\Temp\\ipykernel_15168\\530924707.py:2: DtypeWarning: Columns (6) have mixed types. Specify dtype option on import or set low_memory=False.\n",
      "  nurse_df = pd.read_csv(nurse_wearable_dataset_path)\n"
     ]
    }
   ],
   "source": [
    "nurse_wearable_dataset_path = '../Datasets/Nurse Stress Prediction Wearable Sensors/nurse.csv'\n",
    "nurse_df = pd.read_csv(nurse_wearable_dataset_path)"
   ]
  },
  {
   "cell_type": "code",
   "execution_count": 4,
   "id": "aa31b5e1",
   "metadata": {},
   "outputs": [
    {
     "data": {
      "text/html": [
       "<div>\n",
       "<style scoped>\n",
       "    .dataframe tbody tr th:only-of-type {\n",
       "        vertical-align: middle;\n",
       "    }\n",
       "\n",
       "    .dataframe tbody tr th {\n",
       "        vertical-align: top;\n",
       "    }\n",
       "\n",
       "    .dataframe thead th {\n",
       "        text-align: right;\n",
       "    }\n",
       "</style>\n",
       "<table border=\"1\" class=\"dataframe\">\n",
       "  <thead>\n",
       "    <tr style=\"text-align: right;\">\n",
       "      <th></th>\n",
       "      <th>X</th>\n",
       "      <th>Y</th>\n",
       "      <th>Z</th>\n",
       "      <th>EDA</th>\n",
       "      <th>HR</th>\n",
       "      <th>TEMP</th>\n",
       "      <th>id</th>\n",
       "      <th>datetime</th>\n",
       "      <th>label</th>\n",
       "    </tr>\n",
       "  </thead>\n",
       "  <tbody>\n",
       "    <tr>\n",
       "      <th>0</th>\n",
       "      <td>-13.0</td>\n",
       "      <td>-61.0</td>\n",
       "      <td>5.0</td>\n",
       "      <td>6.769995</td>\n",
       "      <td>99.43</td>\n",
       "      <td>31.17</td>\n",
       "      <td>15</td>\n",
       "      <td>2020-07-08 14:03:00.000000000</td>\n",
       "      <td>2.0</td>\n",
       "    </tr>\n",
       "    <tr>\n",
       "      <th>1</th>\n",
       "      <td>-20.0</td>\n",
       "      <td>-69.0</td>\n",
       "      <td>-3.0</td>\n",
       "      <td>6.769995</td>\n",
       "      <td>99.43</td>\n",
       "      <td>31.17</td>\n",
       "      <td>15</td>\n",
       "      <td>2020-07-08 14:03:00.031249920</td>\n",
       "      <td>2.0</td>\n",
       "    </tr>\n",
       "    <tr>\n",
       "      <th>2</th>\n",
       "      <td>-31.0</td>\n",
       "      <td>-78.0</td>\n",
       "      <td>-15.0</td>\n",
       "      <td>6.769995</td>\n",
       "      <td>99.43</td>\n",
       "      <td>31.17</td>\n",
       "      <td>15</td>\n",
       "      <td>2020-07-08 14:03:00.062500096</td>\n",
       "      <td>2.0</td>\n",
       "    </tr>\n",
       "    <tr>\n",
       "      <th>3</th>\n",
       "      <td>-47.0</td>\n",
       "      <td>-65.0</td>\n",
       "      <td>-38.0</td>\n",
       "      <td>6.769995</td>\n",
       "      <td>99.43</td>\n",
       "      <td>31.17</td>\n",
       "      <td>15</td>\n",
       "      <td>2020-07-08 14:03:00.093750016</td>\n",
       "      <td>2.0</td>\n",
       "    </tr>\n",
       "    <tr>\n",
       "      <th>4</th>\n",
       "      <td>-67.0</td>\n",
       "      <td>-57.0</td>\n",
       "      <td>-53.0</td>\n",
       "      <td>6.769995</td>\n",
       "      <td>99.43</td>\n",
       "      <td>31.17</td>\n",
       "      <td>15</td>\n",
       "      <td>2020-07-08 14:03:00.124999936</td>\n",
       "      <td>2.0</td>\n",
       "    </tr>\n",
       "  </tbody>\n",
       "</table>\n",
       "</div>"
      ],
      "text/plain": [
       "      X     Y     Z       EDA     HR   TEMP  id  \\\n",
       "0 -13.0 -61.0   5.0  6.769995  99.43  31.17  15   \n",
       "1 -20.0 -69.0  -3.0  6.769995  99.43  31.17  15   \n",
       "2 -31.0 -78.0 -15.0  6.769995  99.43  31.17  15   \n",
       "3 -47.0 -65.0 -38.0  6.769995  99.43  31.17  15   \n",
       "4 -67.0 -57.0 -53.0  6.769995  99.43  31.17  15   \n",
       "\n",
       "                        datetime  label  \n",
       "0  2020-07-08 14:03:00.000000000    2.0  \n",
       "1  2020-07-08 14:03:00.031249920    2.0  \n",
       "2  2020-07-08 14:03:00.062500096    2.0  \n",
       "3  2020-07-08 14:03:00.093750016    2.0  \n",
       "4  2020-07-08 14:03:00.124999936    2.0  "
      ]
     },
     "execution_count": 4,
     "metadata": {},
     "output_type": "execute_result"
    }
   ],
   "source": [
    "nurse_df.head()"
   ]
  },
  {
   "cell_type": "code",
   "execution_count": 5,
   "id": "d080c55e",
   "metadata": {},
   "outputs": [
    {
     "name": "stdout",
     "output_type": "stream",
     "text": [
      "<class 'pandas.core.frame.DataFrame'>\n",
      "RangeIndex: 11509051 entries, 0 to 11509050\n",
      "Data columns (total 9 columns):\n",
      " #   Column    Dtype  \n",
      "---  ------    -----  \n",
      " 0   X         float64\n",
      " 1   Y         float64\n",
      " 2   Z         float64\n",
      " 3   EDA       float64\n",
      " 4   HR        float64\n",
      " 5   TEMP      float64\n",
      " 6   id        object \n",
      " 7   datetime  object \n",
      " 8   label     float64\n",
      "dtypes: float64(7), object(2)\n",
      "memory usage: 790.3+ MB\n"
     ]
    }
   ],
   "source": [
    "nurse_df.info()"
   ]
  },
  {
   "cell_type": "code",
   "execution_count": 12,
   "id": "fad78dd2",
   "metadata": {},
   "outputs": [
    {
     "data": {
      "text/plain": [
       "<Axes: ylabel='id'>"
      ]
     },
     "execution_count": 12,
     "metadata": {},
     "output_type": "execute_result"
    },
    {
     "data": {
      "image/png": "[encoded data removed]",
      "text/plain": [
       "<Figure size 640x480 with 1 Axes>"
      ]
     },
     "metadata": {},
     "output_type": "display_data"
    }
   ],
   "source": [
    "nurse_df['id'].value_counts().plot(kind='barh')"
   ]
  },
  {
   "cell_type": "code",
   "execution_count": 18,
   "id": "fd62fbd2",
   "metadata": {},
   "outputs": [
    {
     "data": {
      "text/plain": [
       "<Axes: ylabel='count'>"
      ]
     },
     "execution_count": 18,
     "metadata": {},
     "output_type": "execute_result"
    },
    {
     "data": {
      "image/png": "[encoded data removed]",
      "text/plain": [
       "<Figure size 640x480 with 1 Axes>"
      ]
     },
     "metadata": {},
     "output_type": "display_data"
    }
   ],
   "source": [
    "nurse_df['label'].value_counts().plot(kind='pie')"
   ]
  },
  {
   "cell_type": "code",
   "execution_count": null,
   "id": "b501bdca",
   "metadata": {},
   "outputs": [],
   "source": []
  }
 ],
 "metadata": {
  "kernelspec": {
   "display_name": "venv",
   "language": "python",
   "name": "python3"
  },
  "language_info": {
   "codemirror_mode": {
    "name": "ipython",
    "version": 3
   },
   "file_extension": ".py",
   "mimetype": "text/x-python",
   "name": "python",
   "nbconvert_exporter": "python",
   "pygments_lexer": "ipython3",
   "version": "3.13.3"
  }
 },
 "nbformat": 4,
 "nbformat_minor": 5
}
